{
  "nbformat": 4,
  "nbformat_minor": 0,
  "metadata": {
    "colab": {
      "name": "passwordGenerator.ipynb",
      "provenance": [],
      "collapsed_sections": [],
      "authorship_tag": "ABX9TyPQSC00yKEhAfQqJ32yqsQD",
      "include_colab_link": true
    },
    "kernelspec": {
      "name": "python3",
      "display_name": "Python 3"
    }
  },
  "cells": [
    {
      "cell_type": "markdown",
      "metadata": {
        "id": "view-in-github",
        "colab_type": "text"
      },
      "source": [
        "<a href=\"https://colab.research.google.com/github/Rautsunil8910/sunil/blob/master/passwordGenerator.ipynb\" target=\"_parent\"><img src=\"https://colab.research.google.com/assets/colab-badge.svg\" alt=\"Open In Colab\"/></a>"
      ]
    },
    {
      "cell_type": "code",
      "metadata": {
        "id": "_OsUMmA3jYch",
        "colab_type": "code",
        "colab": {
          "base_uri": "https://localhost:8080/",
          "height": 520
        },
        "outputId": "28d3c013-6000-4bec-a2c7-3fecc2ff50da"
      },
      "source": [
        "import random\n",
        "print(\"=================\\nPassword Generator\\n=================\")\n",
        "\n",
        "print()\n",
        "\n",
        "characters = \"abcdefghijklmnopqrstuvwxyzABCDEFGHIJKLMNOPQRSTUVWXYZ!@.#$%&*0123456789\"\n",
        "#Input  Number of password\n",
        "Num_Of_pass = int(input(\" How many passwords do you want?: \"))\n",
        "# Input length of password\n",
        "len_Of_pass = int(input(' Enter lenth of password you want to generate : '))\n",
        "print()\n",
        "print(\"Passwords are: \")\n",
        "print()\n",
        "#for Number of password\n",
        "for i in range(Num_Of_pass):\n",
        "  #to store password\n",
        "  password = ''\n",
        "    # for length of password\n",
        "  for i in range(len_Of_pass):\n",
        "      password = password + random.choice(characters)\n",
        "  print(password)\n",
        "\n",
        "\n"
      ],
      "execution_count": 1,
      "outputs": [
        {
          "output_type": "stream",
          "text": [
            "=================\n",
            "Password Generator\n",
            "=================\n",
            "\n",
            " How many passwords do you want?: 20\n",
            " Enter lenth of password you want to generate : 20\n",
            "\n",
            "Passwords are: \n",
            "\n",
            "&#HHU#7cIbVaRGdS!vgG\n",
            "ggJhxJ.N@8.KneTOFLv%\n",
            "ID1P$P6eLX%l08xmHSgT\n",
            "&&.3wyViFq9yNtv$0ByA\n",
            "91aTV9mzopMNqSAv*%c!\n",
            "4D6kg@6Pe7VIm!H8%t*u\n",
            "JsrYN9hsJnLL4xMMMuCx\n",
            "@L.CERHNGFZ4yF0VUHXG\n",
            "xcUT3av1RYMPlZ6P%ohH\n",
            "6!7DEDH!N#LOUmDBTbHW\n",
            "QKD%r0IcxrtEW.uup7L#\n",
            "j0z&t87xz&ipn$9Fq57v\n",
            "284@qXcDJMhe1P7pF%$W\n",
            "#1m7c6gG4kepVUnTjVBb\n",
            "Hz6$WOdmbanlEIDM#om8\n",
            "%*yD2K3abeGm6%F511x$\n",
            "lnNS##afnTgUAuxz*5jL\n",
            "7tSPSM$9*vevP.%qHqKo\n",
            "crK4AN0dzVxjJtZhdLcU\n",
            "5e!b9l83.cm*OGYJiu#q\n"
          ],
          "name": "stdout"
        }
      ]
    }
  ]
}